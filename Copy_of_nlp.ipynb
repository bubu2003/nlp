{
  "nbformat": 4,
  "nbformat_minor": 0,
  "metadata": {
    "colab": {
      "provenance": [],
      "include_colab_link": true
    },
    "kernelspec": {
      "name": "python3",
      "display_name": "Python 3"
    },
    "language_info": {
      "name": "python"
    }
  },
  "cells": [
    {
      "cell_type": "markdown",
      "metadata": {
        "id": "view-in-github",
        "colab_type": "text"
      },
      "source": [
        "<a href=\"https://colab.research.google.com/github/bubu2003/nlp/blob/main/Copy_of_nlp.ipynb\" target=\"_parent\"><img src=\"https://colab.research.google.com/assets/colab-badge.svg\" alt=\"Open In Colab\"/></a>"
      ]
    },
    {
      "cell_type": "code",
      "execution_count": null,
      "metadata": {
        "colab": {
          "base_uri": "https://localhost:8080/"
        },
        "id": "OegIRKxlJkAm",
        "outputId": "b0ccb3f9-982f-482f-8ca2-5de6ff38fc7b"
      },
      "outputs": [
        {
          "output_type": "stream",
          "name": "stdout",
          "text": [
            " found a match: <built-in method group of re.Match object at 0x7ac07f348940>\n"
          ]
        }
      ],
      "source": [
        "import re\n",
        "\n",
        "text=\"i am a data scientist\"\n",
        "pattern=\"am\"\n",
        "\n",
        "match=re.search(pattern,text)\n",
        "if match:\n",
        "    print(\" found a match:\",match.group)\n",
        "else:\n",
        "    print(\"no match found\")"
      ]
    },
    {
      "cell_type": "code",
      "source": [
        "# replace text\n",
        "text=\"Iam a data analyst\"\n",
        "pattern=\"analyst\"\n",
        "replacement=\"scientist\"\n",
        "\n",
        "new_text=re.sub(pattern,replacement,text)\n",
        "print(\"original text:\",text)\n",
        "print(\"modified text:\",new_text)"
      ],
      "metadata": {
        "colab": {
          "base_uri": "https://localhost:8080/"
        },
        "id": "kbcGDLWiKD4q",
        "outputId": "6d1197ed-54be-4c85-8a87-75800cc96f1d"
      },
      "execution_count": null,
      "outputs": [
        {
          "output_type": "stream",
          "name": "stdout",
          "text": [
            "original text: Iam a data analyst\n",
            "modified text: Iam a data scientist\n"
          ]
        }
      ]
    },
    {
      "cell_type": "code",
      "source": [
        "test1=\"Hey, this is best : for ! us ;\"\n",
        "\n",
        "print(\"This origal string is :\" +test1)\n",
        "\n",
        "res=re.sub(r'[^\\w\\s]', '', test1)\n",
        "\n",
        "#printing result\n",
        "print(\"The string after punctuation filter : \" + res)"
      ],
      "metadata": {
        "colab": {
          "base_uri": "https://localhost:8080/"
        },
        "id": "rjYLH2UeLQEe",
        "outputId": "6bce1e5a-3177-4357-cc37-33a331894a73"
      },
      "execution_count": null,
      "outputs": [
        {
          "output_type": "stream",
          "name": "stdout",
          "text": [
            "This origal string is :Hey, this is best : for ! us ;\n",
            "The string after punctuation filter : Hey this is best  for  us \n"
          ]
        }
      ]
    },
    {
      "cell_type": "code",
      "source": [
        "import nltk\n",
        "nltk.download('punkt_tab')#download the punkt rokenizer data\n",
        "\n",
        "text=\"This is an example sectence.Another sectence is here.\"\n",
        "tokens = nltk.word_tokenize(text)\n",
        "print(tokens)"
      ],
      "metadata": {
        "colab": {
          "base_uri": "https://localhost:8080/"
        },
        "id": "9Vt4UdQqNSk8",
        "outputId": "f9b6a52f-3442-4503-cc30-ffca5dbf2aeb"
      },
      "execution_count": null,
      "outputs": [
        {
          "output_type": "stream",
          "name": "stderr",
          "text": [
            "[nltk_data] Downloading package punkt_tab to /root/nltk_data...\n",
            "[nltk_data]   Unzipping tokenizers/punkt_tab.zip.\n"
          ]
        },
        {
          "output_type": "stream",
          "name": "stdout",
          "text": [
            "['This', 'is', 'an', 'example', 'sectence.Another', 'sectence', 'is', 'here', '.']\n"
          ]
        }
      ]
    },
    {
      "cell_type": "code",
      "source": [
        "text=\"This is the first sentence. This is the second sentence. And this is the third sentence.\"\n",
        "sentences=nltk.sent_tokenize(text)\n",
        "print(sentences)"
      ],
      "metadata": {
        "colab": {
          "base_uri": "https://localhost:8080/"
        },
        "id": "TgvndaPZOejZ",
        "outputId": "0c78025b-afa7-461c-ba26-005bc9404135"
      },
      "execution_count": null,
      "outputs": [
        {
          "output_type": "stream",
          "name": "stdout",
          "text": [
            "['This is the first sentence.', 'This is the second sentence.', 'And this is the third sentence.']\n"
          ]
        }
      ]
    },
    {
      "cell_type": "code",
      "source": [
        "from nltk.util import ngrams\n",
        "\n",
        "#tokenize the text into indivisiual words\n",
        "text= nltk.word_tokenize(text)\n",
        "\n",
        "#generate bigrams and trigrams from the tokens\n",
        "bigrams=list(ngrams(tokens,2))\n",
        "trigrams=list(ngrams(tokens,3))\n",
        "\n",
        "print(\"Orignal text:\",text)\n",
        "print(\"Tokens:\",tokens)\n",
        "print(\"Bigrams:\",bigrams)\n",
        "print(\"Trigrams:\",trigrams)\n",
        "\n"
      ],
      "metadata": {
        "colab": {
          "base_uri": "https://localhost:8080/"
        },
        "id": "AG-3KS-EPJVu",
        "outputId": "fe6f7ecc-c033-4bae-e301-0b8a3c334a0b"
      },
      "execution_count": null,
      "outputs": [
        {
          "output_type": "stream",
          "name": "stdout",
          "text": [
            "Orignal text: ['This', 'is', 'the', 'first', 'sentence', '.', 'This', 'is', 'the', 'second', 'sentence', '.', 'And', 'this', 'is', 'the', 'third', 'sentence', '.']\n",
            "Tokens: ['This', 'is', 'an', 'example', 'sectence.Another', 'sectence', 'is', 'here', '.']\n",
            "Bigrams: [('This', 'is'), ('is', 'an'), ('an', 'example'), ('example', 'sectence.Another'), ('sectence.Another', 'sectence'), ('sectence', 'is'), ('is', 'here'), ('here', '.')]\n",
            "Trigrams: [('This', 'is', 'an'), ('is', 'an', 'example'), ('an', 'example', 'sectence.Another'), ('example', 'sectence.Another', 'sectence'), ('sectence.Another', 'sectence', 'is'), ('sectence', 'is', 'here'), ('is', 'here', '.')]\n"
          ]
        }
      ]
    },
    {
      "cell_type": "code",
      "source": [
        "from nltk.stem import PorterStemmer\n",
        "\n",
        "stemmer=PorterStemmer()\n",
        "\n",
        "word=\"running\"\n",
        "stemmed_word=stemmer.stem(word)\n",
        "\n",
        "print(stemmed_word) #output run"
      ],
      "metadata": {
        "colab": {
          "base_uri": "https://localhost:8080/"
        },
        "id": "0SJobEDeQajo",
        "outputId": "d600be96-33cb-4fac-e3d9-e87d7d3917e7"
      },
      "execution_count": null,
      "outputs": [
        {
          "output_type": "stream",
          "name": "stdout",
          "text": [
            "run\n"
          ]
        }
      ]
    },
    {
      "cell_type": "code",
      "source": [
        "import nltk\n",
        "nltk.download('omw-1.4')\n",
        "from nltk.stem import WordNetLemmatizer\n",
        "\n",
        "nltk.download('wordnet')#download the wordnet corpus\n",
        "\n",
        "lemmatizer=WordNetLemmatizer()\n",
        "\n",
        "word=\"running\"\n",
        "lemmatized_word=lemmatizer.lemmatize(word)#specify the part of speech as verb (v)\n",
        "\n",
        "print(lemmatized_word) #output run"
      ],
      "metadata": {
        "colab": {
          "base_uri": "https://localhost:8080/"
        },
        "id": "YECEB8i2Q5B3",
        "outputId": "1eeb89a8-c106-45df-c558-cc5f98dcb268"
      },
      "execution_count": null,
      "outputs": [
        {
          "output_type": "stream",
          "name": "stdout",
          "text": [
            "running\n"
          ]
        },
        {
          "output_type": "stream",
          "name": "stderr",
          "text": [
            "[nltk_data] Downloading package omw-1.4 to /root/nltk_data...\n",
            "[nltk_data]   Package omw-1.4 is already up-to-date!\n",
            "[nltk_data] Downloading package wordnet to /root/nltk_data...\n",
            "[nltk_data]   Package wordnet is already up-to-date!\n"
          ]
        }
      ]
    },
    {
      "cell_type": "code",
      "source": [
        "from nltk.corpus import stopwords\n",
        "\n",
        "nltk.download('stopwords') # Download the stop words corpus\n",
        "\n",
        "stop_words = set(stopwords.words('english'))\n",
        "\n",
        "text =\"this is an example sentence that includes stop words\"\n",
        "\n",
        "tokens= nltk.word_tokenize(text)\n",
        "\n",
        "filtered_tokens = [word for word in tokens if not word.lower() in stop_words]\n",
        "\n",
        "filtered_text = ''.join(filtered_tokens)\n",
        "\n",
        "print(\"data\", filtered_text) # Output: example sentence includes stop words"
      ],
      "metadata": {
        "colab": {
          "base_uri": "https://localhost:8080/"
        },
        "id": "ouj2DpRJTtJ8",
        "outputId": "7e7eb711-d5fc-4a17-c386-506cda4dc920"
      },
      "execution_count": null,
      "outputs": [
        {
          "output_type": "stream",
          "name": "stdout",
          "text": [
            "data examplesentenceincludesstopwords\n"
          ]
        },
        {
          "output_type": "stream",
          "name": "stderr",
          "text": [
            "[nltk_data] Downloading package stopwords to /root/nltk_data...\n",
            "[nltk_data]   Unzipping corpora/stopwords.zip.\n"
          ]
        }
      ]
    },
    {
      "cell_type": "code",
      "source": [
        "from nltk.tokenize import word_tokenize\n",
        "nltk.download('averaged_perceptron_tagger_eng')\n",
        "\n",
        "text = \"The quick brown fox jumps over the lazy dog.\"\n",
        "tokens= word_tokenize(text)\n",
        "pos_tags = nltk.pos_tag(tokens)\n",
        "print(pos_tags)"
      ],
      "metadata": {
        "colab": {
          "base_uri": "https://localhost:8080/"
        },
        "id": "t_lm8MMnUr6r",
        "outputId": "152a3609-b31a-4357-f4dc-02287d9946fd"
      },
      "execution_count": null,
      "outputs": [
        {
          "output_type": "stream",
          "name": "stderr",
          "text": [
            "[nltk_data] Downloading package averaged_perceptron_tagger_eng to\n",
            "[nltk_data]     /root/nltk_data...\n",
            "[nltk_data]   Unzipping taggers/averaged_perceptron_tagger_eng.zip.\n"
          ]
        },
        {
          "output_type": "stream",
          "name": "stdout",
          "text": [
            "[('The', 'DT'), ('quick', 'JJ'), ('brown', 'NN'), ('fox', 'NN'), ('jumps', 'VBZ'), ('over', 'IN'), ('the', 'DT'), ('lazy', 'JJ'), ('dog', 'NN'), ('.', '.')]\n"
          ]
        }
      ]
    },
    {
      "cell_type": "code",
      "source": [
        "#NER\n",
        "from nltk import pos_tag, ne_chunk\n",
        "nltk.download('maxent_ne_chunker_tab')\n",
        "nltk.download('words')\n",
        "#Define the text\n",
        "text = \"Apple is expected to launch its new iPhone in September at the Steve Jobs Theater in California.\"\n",
        "\n",
        "#Tokenize the text\n",
        "tokens= word_tokenize(text)\n",
        "\n",
        "#Perform part-of-speech tagging on the tokens\n",
        "tagged= pos_tag(tokens)\n",
        "\n",
        "#Perform named entity recognition on the tagged text\n",
        "\n",
        "ne=ne_chunk(tagged)\n",
        "\n",
        "\n",
        "#Print the named entities\n",
        "\n",
        "for chunk in ne:\n",
        "    if hasattr(chunk, 'label'):\n",
        "        print(chunk.label(), ' '.join(c[0] for c in chunk))"
      ],
      "metadata": {
        "colab": {
          "base_uri": "https://localhost:8080/"
        },
        "id": "ca_HOsReWVEI",
        "outputId": "5f55c22d-3f31-44e4-83af-841121f6c171"
      },
      "execution_count": null,
      "outputs": [
        {
          "output_type": "stream",
          "name": "stderr",
          "text": [
            "[nltk_data] Downloading package maxent_ne_chunker_tab to\n",
            "[nltk_data]     /root/nltk_data...\n",
            "[nltk_data]   Unzipping chunkers/maxent_ne_chunker_tab.zip.\n",
            "[nltk_data] Downloading package words to /root/nltk_data...\n",
            "[nltk_data]   Package words is already up-to-date!\n"
          ]
        },
        {
          "output_type": "stream",
          "name": "stdout",
          "text": [
            "GPE Apple\n",
            "PERSON Steve Jobs\n",
            "GPE California\n"
          ]
        }
      ]
    },
    {
      "cell_type": "code",
      "source": [
        "from nltk.sentiment import SentimentIntensityAnalyzer\n",
        "nltk.download('vader_lexicon')\n",
        "#Initialize the sentiment analyzer\n",
        "sid=SentimentIntensityAnalyzer()\n",
        "#sample text\n",
        "text=\"I hate this product! It would not work perfectly and I would definitely recommend it to anyone.\"\n",
        "#Compute the sentiment scores for the text\n",
        "scores=sid.polarity_scores(text)\n",
        "#Print the sentiment scores\n",
        "print(scores)"
      ],
      "metadata": {
        "colab": {
          "base_uri": "https://localhost:8080/"
        },
        "id": "0Rw2T-O_YMfW",
        "outputId": "a550488f-a786-4081-a3fc-7ea124864617"
      },
      "execution_count": null,
      "outputs": [
        {
          "output_type": "stream",
          "name": "stdout",
          "text": [
            "{'neg': 0.312, 'neu': 0.467, 'pos': 0.221, 'compound': -0.4871}\n"
          ]
        },
        {
          "output_type": "stream",
          "name": "stderr",
          "text": [
            "[nltk_data] Downloading package vader_lexicon to /root/nltk_data...\n"
          ]
        }
      ]
    }
  ]
}